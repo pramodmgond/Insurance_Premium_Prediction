{
 "cells": [
  {
   "cell_type": "code",
   "execution_count": 31,
   "id": "7d2bbeca-0324-4a6d-941f-d864b973a1db",
   "metadata": {},
   "outputs": [
    {
     "name": "stdout",
     "output_type": "stream",
     "text": [
      "4.0.0.6816\n"
     ]
    }
   ],
   "source": [
    "import os\n",
    "from cassandra.cluster import Cluster\n",
    "from cassandra.auth import PlainTextAuthProvider\n",
    "import json\n",
    "\n",
    "# Ensure the file paths are correctly specified\n",
    "secure_bundle_path = r'C:\\Users\\pramod\\Desktop\\INURON\\Internship\\Insurance_Premium_Prediction\\research\\secure-connect-insurance.zip'\n",
    "token_path = r'C:\\Users\\pramod\\Desktop\\INURON\\Internship\\Insurance_Premium_Prediction\\research\\Insurance-token.json'\n",
    "\n",
    "# Set environment variables in your Python environment if necessary\n",
    "#os.environ[\"ASTRA_DB_SECURE_BUNDLE_PATH\"] = secure_bundle_path\n",
    "#os.environ[\"ASTRADB_APPLICATION_TOKEN\"] = token_path\n",
    "\n",
    "secure_bundle_path = os.environ[\"ASTRA_DB_SECURE_BUNDLE_PATH\"]\n",
    "token_path = os.environ[\"ASTRADB_APPLICATION_TOKEN\"] \n",
    "\n",
    "# Cloud configuration for the Cassandra cluster\n",
    "cloud_config = {\n",
    "    'secure_connect_bundle': os.environ[\"ASTRA_DB_SECURE_BUNDLE_PATH\"]\n",
    "}\n",
    "\n",
    "# Load the token JSON file\n",
    "with open(os.environ[\"ASTRADB_APPLICATION_TOKEN\"]) as f:\n",
    "    secrets = json.load(f)\n",
    "\n",
    "CLIENT_ID = secrets[\"clientId\"]\n",
    "CLIENT_SECRET = secrets[\"secret\"]\n",
    "\n",
    "# Set up authentication and connect to the cluster\n",
    "auth_provider = PlainTextAuthProvider(CLIENT_ID, CLIENT_SECRET)\n",
    "cluster = Cluster(cloud=cloud_config, auth_provider=auth_provider)\n",
    "session = cluster.connect()\n",
    "\n",
    "# Execute a query to test the connection\n",
    "row = session.execute(\"SELECT release_version FROM system.local\").one()\n",
    "if row:\n",
    "    print(row[0])\n",
    "else:\n",
    "    print(\"An error occurred.\")\n"
   ]
  },
  {
   "cell_type": "code",
   "execution_count": 2,
   "id": "7f267bc8-f082-4832-bdb8-0306d70e303c",
   "metadata": {},
   "outputs": [],
   "source": [
    "\n",
    "# Set keyspace\n",
    "session.set_keyspace('data_storage')"
   ]
  },
  {
   "cell_type": "code",
   "execution_count": 3,
   "id": "92fc1ead-d357-44d1-ae0d-2878df571400",
   "metadata": {},
   "outputs": [
    {
     "name": "stdout",
     "output_type": "stream",
     "text": [
      "bfed2eec-a04f-4e5c-93d8-956d1b9161d7 47 32.0 1 8551.349609375 southwest female no\n",
      "43b7df5a-b4f2-4eee-b1d8-71c3ec76bb0f 18 24.100000381469727 1 2201.10009765625 southeast female no\n",
      "d727516f-7b80-4b31-8479-306fcd073f09 50 27.399999618530273 0 25656.580078125 northeast female no\n",
      "95c790c4-125b-464f-ac34-12312441e015 57 29.0 0 27218.439453125 northeast male yes\n",
      "f3c1a491-3296-4736-b781-440c01493924 54 29.200000762939453 1 10436.099609375 southwest male no\n"
     ]
    }
   ],
   "source": [
    "rows = session.execute(\"select * from insurance_records limit 5\")\n",
    "for row in rows:\n",
    "    print(row[0], row[1], row[2], row[3], row[4], row[5], row[6], row[7])\n"
   ]
  },
  {
   "cell_type": "code",
   "execution_count": 5,
   "id": "2423dfb0-409e-44c3-8a02-316620b0e4e7",
   "metadata": {},
   "outputs": [
    {
     "data": {
      "text/html": [
       "<div>\n",
       "<style scoped>\n",
       "    .dataframe tbody tr th:only-of-type {\n",
       "        vertical-align: middle;\n",
       "    }\n",
       "\n",
       "    .dataframe tbody tr th {\n",
       "        vertical-align: top;\n",
       "    }\n",
       "\n",
       "    .dataframe thead th {\n",
       "        text-align: right;\n",
       "    }\n",
       "</style>\n",
       "<table border=\"1\" class=\"dataframe\">\n",
       "  <thead>\n",
       "    <tr style=\"text-align: right;\">\n",
       "      <th></th>\n",
       "      <th>age</th>\n",
       "      <th>sex</th>\n",
       "      <th>bmi</th>\n",
       "      <th>children</th>\n",
       "      <th>smoker</th>\n",
       "      <th>region</th>\n",
       "      <th>expenses</th>\n",
       "    </tr>\n",
       "  </thead>\n",
       "  <tbody>\n",
       "    <tr>\n",
       "      <th>0</th>\n",
       "      <td>19</td>\n",
       "      <td>female</td>\n",
       "      <td>27.9</td>\n",
       "      <td>0</td>\n",
       "      <td>yes</td>\n",
       "      <td>southwest</td>\n",
       "      <td>16884.92</td>\n",
       "    </tr>\n",
       "    <tr>\n",
       "      <th>1</th>\n",
       "      <td>18</td>\n",
       "      <td>male</td>\n",
       "      <td>33.8</td>\n",
       "      <td>1</td>\n",
       "      <td>no</td>\n",
       "      <td>southeast</td>\n",
       "      <td>1725.55</td>\n",
       "    </tr>\n",
       "    <tr>\n",
       "      <th>2</th>\n",
       "      <td>28</td>\n",
       "      <td>male</td>\n",
       "      <td>33.0</td>\n",
       "      <td>3</td>\n",
       "      <td>no</td>\n",
       "      <td>southeast</td>\n",
       "      <td>4449.46</td>\n",
       "    </tr>\n",
       "  </tbody>\n",
       "</table>\n",
       "</div>"
      ],
      "text/plain": [
       "   age     sex   bmi  children smoker     region  expenses\n",
       "0   19  female  27.9         0    yes  southwest  16884.92\n",
       "1   18    male  33.8         1     no  southeast   1725.55\n",
       "2   28    male  33.0         3     no  southeast   4449.46"
      ]
     },
     "execution_count": 5,
     "metadata": {},
     "output_type": "execute_result"
    }
   ],
   "source": [
    "import pandas as pd\n",
    "df = pd.read_csv(\"insurance.csv\")\n",
    "df.head(3)"
   ]
  },
  {
   "cell_type": "code",
   "execution_count": 6,
   "id": "5f4c1d83-41a5-4f52-a2de-7e4f4aa72203",
   "metadata": {},
   "outputs": [],
   "source": [
    "insurance_cols = []\n",
    "\n",
    "rows = session.execute(\"select * from insurance_records\")\n",
    "for row in rows:\n",
    "    insurance_cols.append([row[0], row[1], row[2], row[3], row[4], row[5], row[6], row[7]])"
   ]
  },
  {
   "cell_type": "code",
   "execution_count": null,
   "id": "177d75b4-0ca3-495c-a6c7-67f9cbd5b492",
   "metadata": {},
   "outputs": [],
   "source": []
  },
  {
   "cell_type": "code",
   "execution_count": 14,
   "id": "dd0dd45a-fa34-44e8-8713-b5b7cfa1fe7a",
   "metadata": {},
   "outputs": [],
   "source": [
    "import pandas as pd\n",
    "\n",
    "data = pd.DataFrame(insurance_cols, columns = ['id','age', \"bmi\",'children', 'expenses', 'region', 'sex', 'smoker'] )"
   ]
  },
  {
   "cell_type": "code",
   "execution_count": 18,
   "id": "6d30df1b-2e8d-4063-aaf8-c72dbbd1c59b",
   "metadata": {},
   "outputs": [],
   "source": [
    "data.head()\n",
    "\n",
    "if \"id\" in data.columns :\n",
    "    data.drop(columns = ['id'], inplace = True)"
   ]
  },
  {
   "cell_type": "code",
   "execution_count": 19,
   "id": "0e9af36f-f7d7-4b8a-ac58-1d86d726340a",
   "metadata": {},
   "outputs": [
    {
     "data": {
      "text/html": [
       "<div>\n",
       "<style scoped>\n",
       "    .dataframe tbody tr th:only-of-type {\n",
       "        vertical-align: middle;\n",
       "    }\n",
       "\n",
       "    .dataframe tbody tr th {\n",
       "        vertical-align: top;\n",
       "    }\n",
       "\n",
       "    .dataframe thead th {\n",
       "        text-align: right;\n",
       "    }\n",
       "</style>\n",
       "<table border=\"1\" class=\"dataframe\">\n",
       "  <thead>\n",
       "    <tr style=\"text-align: right;\">\n",
       "      <th></th>\n",
       "      <th>age</th>\n",
       "      <th>bmi</th>\n",
       "      <th>children</th>\n",
       "      <th>expenses</th>\n",
       "      <th>region</th>\n",
       "      <th>sex</th>\n",
       "      <th>smoker</th>\n",
       "    </tr>\n",
       "  </thead>\n",
       "  <tbody>\n",
       "    <tr>\n",
       "      <th>0</th>\n",
       "      <td>47</td>\n",
       "      <td>32.000000</td>\n",
       "      <td>1</td>\n",
       "      <td>8551.349609</td>\n",
       "      <td>southwest</td>\n",
       "      <td>female</td>\n",
       "      <td>no</td>\n",
       "    </tr>\n",
       "    <tr>\n",
       "      <th>1</th>\n",
       "      <td>18</td>\n",
       "      <td>24.100000</td>\n",
       "      <td>1</td>\n",
       "      <td>2201.100098</td>\n",
       "      <td>southeast</td>\n",
       "      <td>female</td>\n",
       "      <td>no</td>\n",
       "    </tr>\n",
       "    <tr>\n",
       "      <th>2</th>\n",
       "      <td>50</td>\n",
       "      <td>27.400000</td>\n",
       "      <td>0</td>\n",
       "      <td>25656.580078</td>\n",
       "      <td>northeast</td>\n",
       "      <td>female</td>\n",
       "      <td>no</td>\n",
       "    </tr>\n",
       "    <tr>\n",
       "      <th>3</th>\n",
       "      <td>57</td>\n",
       "      <td>29.000000</td>\n",
       "      <td>0</td>\n",
       "      <td>27218.439453</td>\n",
       "      <td>northeast</td>\n",
       "      <td>male</td>\n",
       "      <td>yes</td>\n",
       "    </tr>\n",
       "    <tr>\n",
       "      <th>4</th>\n",
       "      <td>54</td>\n",
       "      <td>29.200001</td>\n",
       "      <td>1</td>\n",
       "      <td>10436.099609</td>\n",
       "      <td>southwest</td>\n",
       "      <td>male</td>\n",
       "      <td>no</td>\n",
       "    </tr>\n",
       "  </tbody>\n",
       "</table>\n",
       "</div>"
      ],
      "text/plain": [
       "   age        bmi  children      expenses     region     sex smoker\n",
       "0   47  32.000000         1   8551.349609  southwest  female     no\n",
       "1   18  24.100000         1   2201.100098  southeast  female     no\n",
       "2   50  27.400000         0  25656.580078  northeast  female     no\n",
       "3   57  29.000000         0  27218.439453  northeast    male    yes\n",
       "4   54  29.200001         1  10436.099609  southwest    male     no"
      ]
     },
     "execution_count": 19,
     "metadata": {},
     "output_type": "execute_result"
    }
   ],
   "source": [
    "data.head()"
   ]
  },
  {
   "cell_type": "code",
   "execution_count": 24,
   "id": "bb16f505-5713-4a28-87c7-b173543ae872",
   "metadata": {},
   "outputs": [],
   "source": [
    "data.drop_duplicates(inplace = True, ignore_index = True)"
   ]
  },
  {
   "cell_type": "code",
   "execution_count": 28,
   "id": "983ef48a-5780-49af-9f13-eb993c468c51",
   "metadata": {},
   "outputs": [],
   "source": [
    "df.drop_duplicates(inplace = True, ignore_index = True)"
   ]
  },
  {
   "cell_type": "code",
   "execution_count": 29,
   "id": "9b4a1fe5-8caf-495e-9957-133670464989",
   "metadata": {},
   "outputs": [
    {
     "data": {
      "text/plain": [
       "((1337, 7), (1337, 7))"
      ]
     },
     "execution_count": 29,
     "metadata": {},
     "output_type": "execute_result"
    }
   ],
   "source": [
    "data.shape, df.shape"
   ]
  },
  {
   "cell_type": "code",
   "execution_count": 30,
   "id": "43d8a0f9-1f5e-49a1-b462-22fcd24288d0",
   "metadata": {},
   "outputs": [],
   "source": [
    "data.to_csv('insurance_from_db.csv',index=False)"
   ]
  },
  {
   "cell_type": "code",
   "execution_count": null,
   "id": "9175e519-f48e-45bf-b89b-be9f44ceec8d",
   "metadata": {},
   "outputs": [],
   "source": []
  },
  {
   "cell_type": "code",
   "execution_count": null,
   "id": "f07a14ba-6870-49d9-bba2-d956907b0aea",
   "metadata": {},
   "outputs": [],
   "source": [
    "# logging folder creation check \\\n",
    "\n",
    "try :\n",
    "    a = 10/\"the\"\n",
    "except Exception as e :\n",
    "    logging.info(e)\n",
    "    raise InsuranceException(e, sys) from e \n",
    "\n",
    "pipline  = TrainPipeline()\n",
    "pipline.run_pipeline()\n",
    "\n"
   ]
  },
  {
   "cell_type": "code",
   "execution_count": null,
   "id": "cfee73b8-0c7b-4aba-b4fc-ea8b47ca836d",
   "metadata": {},
   "outputs": [],
   "source": []
  },
  {
   "cell_type": "code",
   "execution_count": null,
   "id": "1bfb04f7-8b05-48d7-80e7-9fbdf96db9f2",
   "metadata": {},
   "outputs": [],
   "source": [
    "# astra db connection check \n",
    "# insurance prediction - configuaration - connection.py \n",
    "\n",
    "\n",
    "from Insurance_Prediction.configuration.connection import AstraDBClient\n",
    "from Insurance_Prediction.exception import InsuranceException\n",
    "from Insurance_Prediction.logger import logging\n",
    "from Insurance_Prediction.constants import  DATA_INGESTION_KEYSPACE_NAME,ASTRA_DB_SECURE_BUNDLE_PATH\n",
    "\n",
    " \n",
    "# Usage Example:\n",
    "if __name__ == \"__main__\":\n",
    "    try:\n",
    "        db_client = AstraDBClient()\n",
    "\n",
    "        # Example query execution\n",
    "        result = db_client.execute_query(\"SELECT * FROM insurance_records LIMIT 5\")\n",
    "        if result:\n",
    "            for row in result:\n",
    "                print(row)\n",
    "                logging.info(f\"Row: {row}\")\n",
    "        else:\n",
    "            print(\"No data found.\")\n",
    "\n",
    "    except InsuranceException as ie:\n",
    "        print(f\"Insurance Exception occurred: {ie}\")\n",
    "\n",
    "    finally:\n",
    "        if db_client:\n",
    "            db_client.close_connection()\n"
   ]
  },
  {
   "cell_type": "code",
   "execution_count": null,
   "id": "5a52f53f-225b-4aad-ab2c-ce93a60104af",
   "metadata": {},
   "outputs": [],
   "source": []
  },
  {
   "cell_type": "code",
   "execution_count": null,
   "id": "2751fb91-9794-4675-b104-f292aed8268c",
   "metadata": {},
   "outputs": [],
   "source": [
    "# exporting data from astra db and converting in to dataframe checks \n",
    "# # insurance prediction - data_access - insurance_data.py \n",
    "\n",
    "\n",
    "from Insurance_Prediction.logger import logging\n",
    "from Insurance_Prediction.exception import InsuranceException\n",
    "import sys \n",
    "\n",
    "from Insurance_Prediction.pipeline.training_pipeline import TrainPipeline\n",
    "\n",
    "from Insurance_Prediction.data_access.insurance_data import InsuranceData\n",
    "\n",
    "if __name__ == \"__main__\":\n",
    "    try:\n",
    "        insurance_data = InsuranceData()\n",
    "        df = insurance_data.export_collection_as_dataframe(\"insurance_records\")\n",
    "        print(df.head())\n",
    "    except InsuranceException as ie:\n",
    "        print(f\"Insurance Exception occurred: {ie}\")\n"
   ]
  },
  {
   "cell_type": "code",
   "execution_count": null,
   "id": "ee15e975-a4e7-41c4-ac02-5bceba9d9cbb",
   "metadata": {},
   "outputs": [],
   "source": []
  },
  {
   "cell_type": "code",
   "execution_count": null,
   "id": "0e222a65-bff9-4b13-927f-9535adc3fc83",
   "metadata": {},
   "outputs": [],
   "source": [
    "# checking wheater the DataIngestion is creating artifact folder or not \n",
    "\n",
    "# # insurance prediction - components - data_ingestion_old.py \n",
    "\n",
    "import os\n",
    "from Insurance_Prediction.entity.config_entity import DataIngestionConfig\n",
    "from Insurance_Prediction.components.data_ingestion_old import DataIngestion\n",
    "from Insurance_Prediction.exception import InsuranceException\n",
    "import logging\n",
    "\n",
    "def main():\n",
    "    try:\n",
    "        logging.basicConfig(level=logging.INFO)\n",
    "\n",
    "        # Create a DataIngestionConfig instance with default or customized settings\n",
    "        data_ingestion_config = DataIngestionConfig()\n",
    "\n",
    "        # Initialize DataIngestion instance with the config\n",
    "        data_ingestion = DataIngestion(data_ingestion_config=data_ingestion_config)\n",
    "\n",
    "        # Call the export_data_into_feature_store method to create artifact folder and save CSV file\n",
    "        dataframe = data_ingestion.export_data_into_feature_store()\n",
    "\n",
    "        # Verify if the CSV file is created and the dataframe is not empty\n",
    "        if os.path.exists(data_ingestion_config.feature_store_file_path):\n",
    "            logging.info(f\"CSV file created successfully at {data_ingestion_config.feature_store_file_path}\")\n",
    "        else:\n",
    "            logging.error(f\"CSV file was not created at {data_ingestion_config.feature_store_file_path}\")\n",
    "\n",
    "        if not dataframe.empty:\n",
    "            logging.info(\"DataFrame is not empty, data ingestion successful.\")\n",
    "        else:\n",
    "            logging.error(\"DataFrame is empty, data ingestion failed.\")\n",
    "\n",
    "    except InsuranceException as e:\n",
    "        logging.error(f\"InsuranceException occurred: {e}\")\n",
    "    except Exception as e:\n",
    "        logging.error(f\"An unexpected error occurred: {e}\")\n",
    "\n",
    "if __name__ == \"__main__\":\n",
    "    main()\n",
    "\n"
   ]
  },
  {
   "cell_type": "code",
   "execution_count": null,
   "id": "0e8d330b-c163-4143-afd2-310dc74584d6",
   "metadata": {},
   "outputs": [],
   "source": []
  },
  {
   "cell_type": "code",
   "execution_count": null,
   "id": "c262a678-0373-41ee-85b8-9a3aed21ad4c",
   "metadata": {},
   "outputs": [],
   "source": [
    "# checking wheater the DataIngestion is creating artifact folder and ingestion - train and test folder (split_train_test_function) \n",
    "\n",
    "# # insurance prediction - components - data_ingestion_old.py \n",
    "\n",
    "\n",
    "import os\n",
    "import sys\n",
    "import logging\n",
    "from Insurance_Prediction.entity.config_entity import DataIngestionConfig\n",
    "from Insurance_Prediction.components.data_ingestion_old import DataIngestion\n",
    "from Insurance_Prediction.exception import InsuranceException\n",
    "import pandas as pd\n",
    "\n",
    "def main():\n",
    "    try:\n",
    "        logging.basicConfig(level=logging.INFO)\n",
    "\n",
    "        # Create a DataIngestionConfig instance with default or customized settings\n",
    "        data_ingestion_config = DataIngestionConfig()\n",
    "\n",
    "        # Initialize DataIngestion instance with the config\n",
    "        data_ingestion = DataIngestion(data_ingestion_config=data_ingestion_config)\n",
    "\n",
    "        # Call the export_data_into_feature_store method to create artifact folder and save CSV file\n",
    "        dataframe = data_ingestion.export_data_into_feature_store()\n",
    "\n",
    "        # Verify if the CSV file is created and the dataframe is not empty\n",
    "        if os.path.exists(data_ingestion_config.feature_store_file_path):\n",
    "            logging.info(f\"CSV file created successfully at {data_ingestion_config.feature_store_file_path}\")\n",
    "        else:\n",
    "            logging.error(f\"CSV file was not created at {data_ingestion_config.feature_store_file_path}\")\n",
    "\n",
    "        if not dataframe.empty:\n",
    "            logging.info(\"DataFrame is not empty, data ingestion successful.\")\n",
    "            \n",
    "            # Call split_data_as_train_test method\n",
    "            data_ingestion.split_data_as_train_test(dataframe)\n",
    "\n",
    "            # Verify if the training and testing CSV files are created\n",
    "            if os.path.exists(data_ingestion_config.training_file_path):\n",
    "                logging.info(f\"Training CSV file created successfully at {data_ingestion_config.training_file_path}\")\n",
    "            else:\n",
    "                logging.error(f\"Training CSV file was not created at {data_ingestion_config.training_file_path}\")\n",
    "\n",
    "            if os.path.exists(data_ingestion_config.testing_file_path):\n",
    "                logging.info(f\"Testing CSV file created successfully at {data_ingestion_config.testing_file_path}\")\n",
    "            else:\n",
    "                logging.error(f\"Testing CSV file was not created at {data_ingestion_config.testing_file_path}\")\n",
    "        else:\n",
    "            logging.error(\"DataFrame is empty, data ingestion failed.\")\n",
    "\n",
    "    except InsuranceException as e:\n",
    "        logging.error(f\"InsuranceException occurred: {e}\")\n",
    "    except Exception as e:\n",
    "        logging.error(f\"An unexpected error occurred: {e}\")\n",
    "\n",
    "if __name__ == \"__main__\":\n",
    "    main()\n",
    "\n"
   ]
  },
  {
   "cell_type": "code",
   "execution_count": null,
   "id": "d63de47b-d1e8-4ee7-a451-4f04d143e660",
   "metadata": {},
   "outputs": [],
   "source": []
  },
  {
   "cell_type": "code",
   "execution_count": null,
   "id": "143b8969-e79e-445a-8d25-41ee61216a72",
   "metadata": {},
   "outputs": [],
   "source": [
    "# check the fuction initiate_data_ingestion created in the dataingestion class - which runs both artifact \n",
    "# export_data_into_feature_store , split_data_as_train_test\n",
    "\n",
    "\n",
    "import logging\n",
    "from Insurance_Prediction.entity.config_entity import DataIngestionConfig\n",
    "from Insurance_Prediction.data_access.insurance_data import InsuranceData\n",
    "from Insurance_Prediction.components.data_ingestion_old import DataIngestion\n",
    "from Insurance_Prediction.logger import logging\n",
    "\n",
    "# Configure logging\n",
    "logging.basicConfig(level=logging.INFO)\n",
    "\n",
    "def main():\n",
    "    try:\n",
    "        logging.info(\"Starting data ingestion process\")\n",
    "        \n",
    "        # Initialize data ingestion config\n",
    "        data_ingestion_config = DataIngestionConfig()\n",
    "\n",
    "        # Initialize data ingestion object\n",
    "        data_ingestion = DataIngestion(data_ingestion_config)\n",
    "\n",
    "        # Initiate data ingestion\n",
    "        data_ingestion_artifact = data_ingestion.initiate_data_ingestion()\n",
    "\n",
    "        logging.info(f\"Data ingestion completed successfully. Artifacts: {data_ingestion_artifact}\")\n",
    "        \n",
    "    except Exception as e:\n",
    "        logging.error(f\"An error occurred: {e}\")\n",
    "        raise\n",
    "\n",
    "if __name__ == \"__main__\":\n",
    "    main()\n"
   ]
  },
  {
   "cell_type": "code",
   "execution_count": null,
   "id": "8472a2a5-188c-428f-8b06-50b55071f114",
   "metadata": {},
   "outputs": [],
   "source": []
  },
  {
   "cell_type": "code",
   "execution_count": null,
   "id": "4a98eb92-1786-483b-a08a-6af0d206359f",
   "metadata": {},
   "outputs": [],
   "source": [
    "# checking traing pipe line - start data ingestion created in the run_pipeline\n",
    "\n",
    "# it strat from the begging lke astradb connection, then exporting csv, spliting, storing data in the artifact and \n",
    "# train test folder\n",
    "\n",
    "\n",
    "from Insurance_Prediction.pipeline.training_pipeline import TrainPipeline\n",
    "\n",
    "pipeline = TrainPipeline()\n",
    "pipeline.run_pipeline()\n",
    "\n"
   ]
  },
  {
   "cell_type": "code",
   "execution_count": 32,
   "id": "fc92a789-6367-498e-b563-0b3017df30f5",
   "metadata": {},
   "outputs": [
    {
     "data": {
      "text/plain": [
       "'C:\\\\Users\\\\pramod\\\\Desktop\\\\INURON\\\\Internship\\\\Insurance_Premium_Prediction\\\\research'"
      ]
     },
     "execution_count": 32,
     "metadata": {},
     "output_type": "execute_result"
    }
   ],
   "source": [
    "pwd"
   ]
  },
  {
   "cell_type": "code",
   "execution_count": null,
   "id": "a0795d75-3b65-4e79-9d95-253c5b55991c",
   "metadata": {},
   "outputs": [],
   "source": []
  }
 ],
 "metadata": {
  "kernelspec": {
   "display_name": "Python 3 (ipykernel)",
   "language": "python",
   "name": "python3"
  },
  "language_info": {
   "codemirror_mode": {
    "name": "ipython",
    "version": 3
   },
   "file_extension": ".py",
   "mimetype": "text/x-python",
   "name": "python",
   "nbconvert_exporter": "python",
   "pygments_lexer": "ipython3",
   "version": "3.11.7"
  }
 },
 "nbformat": 4,
 "nbformat_minor": 5
}
