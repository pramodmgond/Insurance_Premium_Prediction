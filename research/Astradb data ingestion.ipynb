{
 "cells": [
  {
   "cell_type": "code",
   "execution_count": 1,
   "id": "0b16631e-e257-4a65-aa6c-f48deb75acd2",
   "metadata": {},
   "outputs": [],
   "source": [
    "#pip install cassandra-driver"
   ]
  },
  {
   "cell_type": "code",
   "execution_count": 2,
   "id": "07afa2cc-9928-473b-b172-ddb9327820d9",
   "metadata": {},
   "outputs": [],
   "source": [
    "# Cassandra database connection\n",
    "import cassandra\n",
    "from cassandra.cluster import Cluster\n",
    "from cassandra.auth import PlainTextAuthProvider"
   ]
  },
  {
   "cell_type": "code",
   "execution_count": null,
   "id": "af429c78-e484-408e-ae8b-ac263dffbe83",
   "metadata": {},
   "outputs": [],
   "source": []
  },
  {
   "cell_type": "code",
   "execution_count": 4,
   "id": "7b628e76-f393-47b5-bf7b-f0c1e7c50ec4",
   "metadata": {},
   "outputs": [
    {
     "name": "stdout",
     "output_type": "stream",
     "text": [
      "4.0.0.6816\n"
     ]
    }
   ],
   "source": [
    "import os\n",
    "from cassandra.cluster import Cluster\n",
    "from cassandra.auth import PlainTextAuthProvider\n",
    "import json\n",
    "\n",
    "# Ensure the file paths are correctly specified\n",
    "secure_bundle_path = r'C:\\Users\\pramod\\Desktop\\INURON\\Internship\\Insurance_Premium_Prediction\\research\\secure-connect-insurance.zip'\n",
    "token_path = r'C:\\Users\\pramod\\Desktop\\INURON\\Internship\\Insurance_Premium_Prediction\\research\\Insurance-token.json'\n",
    "\n",
    "# Set environment variables in your Python environment if necessary\n",
    "os.environ[\"ASTRA_DB_SECURE_BUNDLE_PATH\"] = secure_bundle_path\n",
    "os.environ[\"ASTRADB_APPLICATION_TOKEN\"] = token_path\n",
    "\n",
    "# Cloud configuration for the Cassandra cluster\n",
    "cloud_config = {\n",
    "    'secure_connect_bundle': os.environ[\"ASTRA_DB_SECURE_BUNDLE_PATH\"]\n",
    "}\n",
    "\n",
    "# Load the token JSON file\n",
    "with open(os.environ[\"ASTRADB_APPLICATION_TOKEN\"]) as f:\n",
    "    secrets = json.load(f)\n",
    "\n",
    "CLIENT_ID = secrets[\"clientId\"]\n",
    "CLIENT_SECRET = secrets[\"secret\"]\n",
    "\n",
    "# Set up authentication and connect to the cluster\n",
    "auth_provider = PlainTextAuthProvider(CLIENT_ID, CLIENT_SECRET)\n",
    "cluster = Cluster(cloud=cloud_config, auth_provider=auth_provider)\n",
    "session = cluster.connect()\n",
    "\n",
    "# Execute a query to test the connection\n",
    "row = session.execute(\"SELECT release_version FROM system.local\").one()\n",
    "if row:\n",
    "    print(row[0])\n",
    "else:\n",
    "    print(\"An error occurred.\")\n"
   ]
  },
  {
   "cell_type": "code",
   "execution_count": 14,
   "id": "2be0c35e-98b3-4ab6-9738-8f74afed684c",
   "metadata": {},
   "outputs": [],
   "source": [
    "\n",
    "# Set keyspace\n",
    "session.set_keyspace('data_storage')"
   ]
  },
  {
   "cell_type": "code",
   "execution_count": 15,
   "id": "dede46d3-2e9b-46c1-a9de-96055288e69e",
   "metadata": {},
   "outputs": [],
   "source": [
    "import pandas as pd"
   ]
  },
  {
   "cell_type": "code",
   "execution_count": 16,
   "id": "9527a9f0-c603-4579-8d00-69f8eb367481",
   "metadata": {},
   "outputs": [],
   "source": []
  },
  {
   "cell_type": "code",
   "execution_count": 17,
   "id": "17749a10-3127-499b-9643-accdaeb4641c",
   "metadata": {},
   "outputs": [
    {
     "data": {
      "text/html": [
       "<div>\n",
       "<style scoped>\n",
       "    .dataframe tbody tr th:only-of-type {\n",
       "        vertical-align: middle;\n",
       "    }\n",
       "\n",
       "    .dataframe tbody tr th {\n",
       "        vertical-align: top;\n",
       "    }\n",
       "\n",
       "    .dataframe thead th {\n",
       "        text-align: right;\n",
       "    }\n",
       "</style>\n",
       "<table border=\"1\" class=\"dataframe\">\n",
       "  <thead>\n",
       "    <tr style=\"text-align: right;\">\n",
       "      <th></th>\n",
       "      <th>age</th>\n",
       "      <th>sex</th>\n",
       "      <th>bmi</th>\n",
       "      <th>children</th>\n",
       "      <th>smoker</th>\n",
       "      <th>region</th>\n",
       "      <th>expenses</th>\n",
       "    </tr>\n",
       "  </thead>\n",
       "  <tbody>\n",
       "    <tr>\n",
       "      <th>0</th>\n",
       "      <td>19</td>\n",
       "      <td>female</td>\n",
       "      <td>27.9</td>\n",
       "      <td>0</td>\n",
       "      <td>yes</td>\n",
       "      <td>southwest</td>\n",
       "      <td>16884.92</td>\n",
       "    </tr>\n",
       "    <tr>\n",
       "      <th>1</th>\n",
       "      <td>18</td>\n",
       "      <td>male</td>\n",
       "      <td>33.8</td>\n",
       "      <td>1</td>\n",
       "      <td>no</td>\n",
       "      <td>southeast</td>\n",
       "      <td>1725.55</td>\n",
       "    </tr>\n",
       "    <tr>\n",
       "      <th>2</th>\n",
       "      <td>28</td>\n",
       "      <td>male</td>\n",
       "      <td>33.0</td>\n",
       "      <td>3</td>\n",
       "      <td>no</td>\n",
       "      <td>southeast</td>\n",
       "      <td>4449.46</td>\n",
       "    </tr>\n",
       "  </tbody>\n",
       "</table>\n",
       "</div>"
      ],
      "text/plain": [
       "   age     sex   bmi  children smoker     region  expenses\n",
       "0   19  female  27.9         0    yes  southwest  16884.92\n",
       "1   18    male  33.8         1     no  southeast   1725.55\n",
       "2   28    male  33.0         3     no  southeast   4449.46"
      ]
     },
     "execution_count": 17,
     "metadata": {},
     "output_type": "execute_result"
    }
   ],
   "source": [
    "df = pd.read_csv(\"insurance.csv\")\n",
    "df.head(3)"
   ]
  },
  {
   "cell_type": "code",
   "execution_count": 10,
   "id": "19d5fdfb-aefc-4c52-b9ed-dc852f7604e9",
   "metadata": {},
   "outputs": [
    {
     "data": {
      "text/plain": [
       "<cassandra.cluster.ResultSet at 0x20c10fd8990>"
      ]
     },
     "execution_count": 10,
     "metadata": {},
     "output_type": "execute_result"
    }
   ],
   "source": [
    "\n",
    "# Create the table\n",
    "create_table_query = \"\"\"\n",
    "CREATE TABLE IF NOT EXISTS insurance_records (\n",
    "    id UUID PRIMARY KEY,\n",
    "    age INT,\n",
    "    sex TEXT,\n",
    "    bmi FLOAT,\n",
    "    children INT,\n",
    "    smoker TEXT,\n",
    "    region TEXT,\n",
    "    expenses FLOAT\n",
    ")\n",
    "\"\"\"\n",
    "session.execute(create_table_query)\n"
   ]
  },
  {
   "cell_type": "code",
   "execution_count": 24,
   "id": "2da13d42-e49b-4446-b4fd-903260a96c53",
   "metadata": {},
   "outputs": [
    {
     "name": "stdout",
     "output_type": "stream",
     "text": [
      "Tables in the keyspace:\n",
      "insurance_records\n"
     ]
    }
   ],
   "source": [
    "# Query to list all tables in the keyspace\n",
    "tables_query = \"SELECT table_name FROM system_schema.tables WHERE keyspace_name = 'data_storage';\"\n",
    "tables = session.execute(tables_query)\n",
    "\n",
    "print(\"Tables in the keyspace:\")\n",
    "for table in tables:\n",
    "    print(table.table_name)\n",
    "\n"
   ]
  },
  {
   "cell_type": "code",
   "execution_count": 23,
   "id": "08c31f02-b836-49fb-b16d-04d43660265d",
   "metadata": {},
   "outputs": [
    {
     "name": "stdout",
     "output_type": "stream",
     "text": [
      "Tables in the keyspace:\n",
      "Table: insurance_records\n",
      "Columns:\n",
      "age (int) | bmi (float) | children (int) | expenses (float) | id (uuid) | region (text) | sex (text) | smoker (text)\n",
      "Data:\n",
      "\n",
      "--------------------------------------------------\n",
      "\n"
     ]
    }
   ],
   "source": [
    "\n",
    "\n",
    "# Query to list all tables in the keyspace\n",
    "tables_query = \"SELECT table_name FROM system_schema.tables WHERE keyspace_name = 'data_storage';\"\n",
    "tables = session.execute(tables_query)\n",
    "\n",
    "print(\"Tables in the keyspace:\")\n",
    "for table in tables:\n",
    "    table_name = table.table_name\n",
    "    print(f\"Table: {table_name}\")\n",
    "    \n",
    "    # Query to get the column names and types\n",
    "    schema_query = f\"\"\"\n",
    "    SELECT column_name, type\n",
    "    FROM system_schema.columns\n",
    "    WHERE keyspace_name = 'data_storage' AND table_name = '{table_name}';\n",
    "    \"\"\"\n",
    "    columns = session.execute(schema_query)\n",
    "    \n",
    "    print(\"Columns:\")\n",
    "    column_names = []\n",
    "    for column in columns:\n",
    "        column_names.append(f\"{column.column_name} ({column.type})\")\n",
    "    \n",
    "    print(\" | \".join(column_names))\n",
    "    \n",
    "    # Query to select data from the table\n",
    "    select_query = f\"SELECT * FROM {table_name} LIMIT 5;\"\n",
    "    rows = session.execute(select_query)\n",
    "    \n",
    "    print(\"Data:\")\n",
    "    for row in rows:\n",
    "        print(row)\n",
    "    print(\"\\n\" + \"-\"*50 + \"\\n\")\n"
   ]
  },
  {
   "cell_type": "code",
   "execution_count": 27,
   "id": "882eaa19-7b52-47f8-9213-2f6cfc43ccce",
   "metadata": {},
   "outputs": [
    {
     "name": "stdout",
     "output_type": "stream",
     "text": [
      "Data inserted successfully.\n"
     ]
    }
   ],
   "source": [
    "import pandas as pd\n",
    "from cassandra.cluster import Cluster\n",
    "from cassandra.auth import PlainTextAuthProvider\n",
    "import json\n",
    "\n",
    "\n",
    "# Read CSV file into DataFrame\n",
    "csv_file = 'insurance.csv'  # Replace with your actual CSV file path\n",
    "df = pd.read_csv(csv_file)\n",
    "\n",
    "# Prepare insert statement\n",
    "insert_stmt = session.prepare(\"\"\"\n",
    "    INSERT INTO insurance_records (id, age, sex, bmi, children, smoker, region, expenses)\n",
    "    VALUES (?, ?, ?, ?, ?, ?, ?, ?)\n",
    "\"\"\")\n",
    "\n",
    "# Insert data into the table\n",
    "from uuid import uuid4\n",
    "\n",
    "for index, row in df.iterrows():\n",
    "    session.execute(insert_stmt, (uuid4(), row['age'], row['sex'], row['bmi'], row['children'], row['smoker'], row['region'], row['expenses']))\n",
    "\n",
    "print(\"Data inserted successfully.\")\n"
   ]
  },
  {
   "cell_type": "code",
   "execution_count": 28,
   "id": "6960a5fe-7b19-4dc9-a84a-7e32fbf632a9",
   "metadata": {},
   "outputs": [],
   "source": [
    "#use data_storage \n",
    "# SELECT * FROM insurance_records LIMIT 5;"
   ]
  },
  {
   "cell_type": "code",
   "execution_count": null,
   "id": "e9ad199c-af8d-4f7f-a05f-b0732582e2ea",
   "metadata": {},
   "outputs": [],
   "source": []
  },
  {
   "cell_type": "code",
   "execution_count": 37,
   "id": "ac9f8290-792b-4965-83ec-2297e96d4369",
   "metadata": {},
   "outputs": [
    {
     "name": "stdout",
     "output_type": "stream",
     "text": [
      "bfed2eec-a04f-4e5c-93d8-956d1b9161d7 47 32.0 1 8551.349609375 southwest female no\n",
      "43b7df5a-b4f2-4eee-b1d8-71c3ec76bb0f 18 24.100000381469727 1 2201.10009765625 southeast female no\n",
      "d727516f-7b80-4b31-8479-306fcd073f09 50 27.399999618530273 0 25656.580078125 northeast female no\n",
      "95c790c4-125b-464f-ac34-12312441e015 57 29.0 0 27218.439453125 northeast male yes\n",
      "f3c1a491-3296-4736-b781-440c01493924 54 29.200000762939453 1 10436.099609375 southwest male no\n"
     ]
    }
   ],
   "source": [
    "rows = session.execute(\"select * from insurance_records limit 5\")\n",
    "for row in rows:\n",
    "    print(row[0], row[1], row[2], row[3], row[4], row[5], row[6], row[7])\n"
   ]
  },
  {
   "cell_type": "code",
   "execution_count": 41,
   "id": "fbc8b6e0-0d04-4e2c-ad66-4304903070d1",
   "metadata": {},
   "outputs": [
    {
     "data": {
      "text/html": [
       "<div>\n",
       "<style scoped>\n",
       "    .dataframe tbody tr th:only-of-type {\n",
       "        vertical-align: middle;\n",
       "    }\n",
       "\n",
       "    .dataframe tbody tr th {\n",
       "        vertical-align: top;\n",
       "    }\n",
       "\n",
       "    .dataframe thead th {\n",
       "        text-align: right;\n",
       "    }\n",
       "</style>\n",
       "<table border=\"1\" class=\"dataframe\">\n",
       "  <thead>\n",
       "    <tr style=\"text-align: right;\">\n",
       "      <th></th>\n",
       "      <th>age</th>\n",
       "      <th>sex</th>\n",
       "      <th>bmi</th>\n",
       "      <th>children</th>\n",
       "      <th>smoker</th>\n",
       "      <th>region</th>\n",
       "      <th>expenses</th>\n",
       "    </tr>\n",
       "  </thead>\n",
       "  <tbody>\n",
       "    <tr>\n",
       "      <th>469</th>\n",
       "      <td>18</td>\n",
       "      <td>female</td>\n",
       "      <td>24.1</td>\n",
       "      <td>1</td>\n",
       "      <td>no</td>\n",
       "      <td>southeast</td>\n",
       "      <td>2201.10</td>\n",
       "    </tr>\n",
       "    <tr>\n",
       "      <th>471</th>\n",
       "      <td>18</td>\n",
       "      <td>female</td>\n",
       "      <td>30.1</td>\n",
       "      <td>0</td>\n",
       "      <td>no</td>\n",
       "      <td>northeast</td>\n",
       "      <td>2203.47</td>\n",
       "    </tr>\n",
       "  </tbody>\n",
       "</table>\n",
       "</div>"
      ],
      "text/plain": [
       "     age     sex   bmi  children smoker     region  expenses\n",
       "469   18  female  24.1         1     no  southeast   2201.10\n",
       "471   18  female  30.1         0     no  northeast   2203.47"
      ]
     },
     "execution_count": 41,
     "metadata": {},
     "output_type": "execute_result"
    }
   ],
   "source": [
    "df[df[\"expenses\"] >= 2201 ].sort_values(by = ['expenses']).head(2)"
   ]
  },
  {
   "cell_type": "code",
   "execution_count": 42,
   "id": "2045fe1d-3d72-41ae-951a-d741da9ab9be",
   "metadata": {},
   "outputs": [
    {
     "data": {
      "text/plain": [
       "(1338, 7)"
      ]
     },
     "execution_count": 42,
     "metadata": {},
     "output_type": "execute_result"
    }
   ],
   "source": [
    "df.shape"
   ]
  },
  {
   "cell_type": "code",
   "execution_count": null,
   "id": "3696fbee-5d7a-49b8-9862-1e92311c9293",
   "metadata": {},
   "outputs": [],
   "source": []
  }
 ],
 "metadata": {
  "kernelspec": {
   "display_name": "Python 3 (ipykernel)",
   "language": "python",
   "name": "python3"
  },
  "language_info": {
   "codemirror_mode": {
    "name": "ipython",
    "version": 3
   },
   "file_extension": ".py",
   "mimetype": "text/x-python",
   "name": "python",
   "nbconvert_exporter": "python",
   "pygments_lexer": "ipython3",
   "version": "3.11.7"
  }
 },
 "nbformat": 4,
 "nbformat_minor": 5
}
